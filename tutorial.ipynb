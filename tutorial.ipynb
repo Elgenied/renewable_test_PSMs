{
 "cells": [
  {
   "cell_type": "markdown",
   "metadata": {},
   "source": [
    "# Using the models: a very short tutorial"
   ]
  },
  {
   "cell_type": "code",
   "execution_count": null,
   "metadata": {},
   "outputs": [],
   "source": [
    "import models"
   ]
  },
  {
   "cell_type": "code",
   "execution_count": null,
   "metadata": {},
   "outputs": [],
   "source": [
    "# Import time series data\n",
    "\n",
    "ts_data = models.load_time_series_data(model_name='6_region')\n",
    "ts_data = ts_data.loc['2017-01']"
   ]
  },
  {
   "cell_type": "code",
   "execution_count": null,
   "metadata": {},
   "outputs": [],
   "source": [
    "# Create and run model\n",
    "\n",
    "model = models.SixRegionModel(ts_data=ts_data,\n",
    "                              run_mode='plan',\n",
    "                              baseload_integer=False,\n",
    "                              baseload_ramping=False,\n",
    "                              allow_unmet=True)\n",
    "model.run()"
   ]
  },
  {
   "cell_type": "code",
   "execution_count": 4,
   "metadata": {},
   "outputs": [
    {
     "name": "stdout",
     "output_type": "stream",
     "text": [
      "                              output\n",
      "cap_baseload_total      1.218391e+02\n",
      "cap_peaking_total       8.453750e+01\n",
      "cap_wind_total          6.458156e+01\n",
      "cap_unmet_total         1.228033e+00\n",
      "cap_transmission_total  2.094868e+02\n",
      "gen_baseload_total      1.042942e+06\n",
      "gen_peaking_total       2.345760e+05\n",
      "gen_wind_total          2.455688e+05\n",
      "gen_unmet_total         1.806977e+01\n",
      "demand_total            1.523105e+06\n",
      "cost_total              8.622234e+04\n",
      "emissions_total         3.024188e+08\n"
     ]
    }
   ],
   "source": [
    "# Get model outputs\n",
    "\n",
    "print(model.get_summary_outputs())"
   ]
  }
 ],
 "metadata": {
  "kernelspec": {
   "display_name": "Python 3",
   "language": "python",
   "name": "python3"
  },
  "language_info": {
   "codemirror_mode": {
    "name": "ipython",
    "version": 3
   },
   "file_extension": ".py",
   "mimetype": "text/x-python",
   "name": "python",
   "nbconvert_exporter": "python",
   "pygments_lexer": "ipython3",
   "version": "3.8.1"
  }
 },
 "nbformat": 4,
 "nbformat_minor": 4
}
