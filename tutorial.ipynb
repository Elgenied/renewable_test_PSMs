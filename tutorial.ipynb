{
 "cells": [
  {
   "cell_type": "markdown",
   "metadata": {},
   "source": [
    "# Using the models: a very short tutorial"
   ]
  },
  {
   "cell_type": "markdown",
   "metadata": {},
   "source": [
    "## A first run through"
   ]
  },
  {
   "cell_type": "code",
   "execution_count": 2,
   "metadata": {},
   "outputs": [],
   "source": [
    "import models"
   ]
  },
  {
   "cell_type": "code",
   "execution_count": 3,
   "metadata": {},
   "outputs": [],
   "source": [
    "# Import time series data\n",
    "\n",
    "ts_data = models.load_time_series_data(model_name='6_region')\n",
    "ts_data = ts_data.loc['2017-01-08':'2017-01-15']  # A week in January"
   ]
  },
  {
   "cell_type": "code",
   "execution_count": null,
   "metadata": {},
   "outputs": [],
   "source": [
    "# Create and run model -- warnings about interest rate can be ignored\n",
    "\n",
    "model = models.SixRegionModel(ts_data=ts_data,\n",
    "                              run_mode='plan',\n",
    "                              baseload_integer=False,\n",
    "                              baseload_ramping=False,\n",
    "                              allow_unmet=True)\n",
    "model.run()"
   ]
  },
  {
   "cell_type": "code",
   "execution_count": 5,
   "metadata": {},
   "outputs": [
    {
     "name": "stdout",
     "output_type": "stream",
     "text": [
      "                                        output\n",
      "cap_baseload_region1              0.000000e+00\n",
      "cap_peaking_region1               1.738432e+01\n",
      "cap_transmission_region1_region2  8.692160e+00\n",
      "cap_transmission_region1_region5  8.692160e+00\n",
      "cap_transmission_region1_region6  0.000000e+00\n",
      "gen_baseload_region1              1.185675e-08\n",
      "gen_peaking_region1               5.996995e+04\n",
      "cap_wind_region2                  1.232499e+02\n",
      "peak_unmet_region2                0.000000e+00\n",
      "cap_transmission_region2_region3  4.838879e+01\n",
      "gen_wind_region2                  5.649108e+05\n",
      "gen_unmet_region2                 0.000000e+00\n",
      "demand_region2                    5.078099e+05\n",
      "cap_baseload_region3              2.179621e+01\n",
      "cap_peaking_region3               9.728308e+01\n",
      "cap_transmission_region3_region4  7.409500e+01\n",
      "gen_baseload_region3              1.791206e+05\n",
      "gen_peaking_region3               2.962536e+05\n",
      "peak_unmet_region4                0.000000e+00\n",
      "cap_transmission_region4_region5  3.915000e+00\n",
      "gen_unmet_region4                 0.000000e+00\n",
      "demand_region4                    6.038286e+05\n",
      "cap_wind_region5                  6.405457e+01\n",
      "peak_unmet_region5                0.000000e+00\n",
      "cap_transmission_region5_region6  2.480989e+01\n",
      "gen_wind_region5                  3.383120e+05\n",
      "gen_unmet_region5                 0.000000e+00\n",
      "demand_region5                    3.528628e+05\n",
      "cap_baseload_region6              0.000000e+00\n",
      "cap_peaking_region6               2.480989e+01\n",
      "cap_wind_region6                  0.000000e+00\n",
      "gen_baseload_region6              0.000000e+00\n",
      "gen_peaking_region6               2.593438e+04\n",
      "gen_wind_region6                  0.000000e+00\n",
      "cap_baseload_total                2.179621e+01\n",
      "cap_peaking_total                 1.394773e+02\n",
      "cap_wind_total                    1.873045e+02\n",
      "cap_transmission_total            1.685930e+02\n",
      "peak_unmet_total                  0.000000e+00\n",
      "peak_unmet_systemwide             0.000000e+00\n",
      "gen_baseload_total                1.791206e+05\n",
      "gen_peaking_total                 3.821580e+05\n",
      "gen_wind_total                    9.032227e+05\n",
      "gen_unmet_total                   0.000000e+00\n",
      "demand_total                      1.464501e+06\n",
      "cost_total                        7.094989e+04\n",
      "emissions_total                   1.886873e+08\n"
     ]
    }
   ],
   "source": [
    "# Get model outputs\n",
    "\n",
    "print(model.get_summary_outputs())"
   ]
  },
  {
   "cell_type": "markdown",
   "metadata": {},
   "source": [
    "## Some more functionality\n",
    "\n",
    "The models in this repository are subclassed from `Calliope`, an open-source energy modelling framework with some really neat features. See [this link](https://calliope.readthedocs.io/en/stable/index.html) for tutorials and more information. Below, we'll look at two nice ways of analysing results that are inherited from that software. There are a lot more features -- it's recommended to have a look through the tutorial, especially the \"analysing a model\" section.\n",
    "\n",
    "The code above gives a high-level overview of relevant model outputs. However, if you wan't all of them, you can export them to csv as follows:"
   ]
  },
  {
   "cell_type": "code",
   "execution_count": null,
   "metadata": {},
   "outputs": [],
   "source": [
    "# Export full set of outputs to CSV -- creates a directory called 'outputs'\n",
    "\n",
    "model.to_csv('outputs')"
   ]
  },
  {
   "cell_type": "code",
   "execution_count": null,
   "metadata": {},
   "outputs": [],
   "source": [
    "# Make plots of the model outputs (e.g. power or variable cost). This cell does not\n",
    "# display properly on Github. If you want to see the outputs, open it up yourself\n",
    "# and run it in your own Jupyter notebook. \n",
    "\n",
    "model.plot.timeseries(array='results')"
   ]
  }
 ],
 "metadata": {
  "kernelspec": {
   "display_name": "Python 3",
   "language": "python",
   "name": "python3"
  },
  "language_info": {
   "codemirror_mode": {
    "name": "ipython",
    "version": 3
   },
   "file_extension": ".py",
   "mimetype": "text/x-python",
   "name": "python",
   "nbconvert_exporter": "python",
   "pygments_lexer": "ipython3",
   "version": "3.8.1"
  }
 },
 "nbformat": 4,
 "nbformat_minor": 4
}
