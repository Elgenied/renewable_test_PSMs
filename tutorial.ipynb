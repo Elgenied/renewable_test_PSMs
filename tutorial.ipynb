{
 "cells": [
  {
   "cell_type": "markdown",
   "metadata": {},
   "source": [
    "# Using the models: a very short tutorial"
   ]
  },
  {
   "cell_type": "markdown",
   "metadata": {},
   "source": [
    "## A first run through"
   ]
  },
  {
   "cell_type": "code",
   "execution_count": null,
   "metadata": {},
   "outputs": [],
   "source": [
    "import models"
   ]
  },
  {
   "cell_type": "code",
   "execution_count": null,
   "metadata": {},
   "outputs": [],
   "source": [
    "# Import time series data\n",
    "\n",
    "ts_data = models.load_time_series_data(model_name='6_region')\n",
    "ts_data = ts_data.loc['2017-01-08':'2017-01-15']  # A week in January"
   ]
  },
  {
   "cell_type": "code",
   "execution_count": null,
   "metadata": {},
   "outputs": [],
   "source": [
    "# Create and run model -- warnings about interest rate can be ignored\n",
    "\n",
    "model = models.SixRegionModel(ts_data=ts_data,\n",
    "                              run_mode='plan',\n",
    "                              baseload_integer=False,\n",
    "                              baseload_ramping=False,\n",
    "                              allow_unmet=True)\n",
    "model.run()"
   ]
  },
  {
   "cell_type": "code",
   "execution_count": null,
   "metadata": {},
   "outputs": [],
   "source": [
    "# Get model outputs\n",
    "\n",
    "model.get_summary_outputs()"
   ]
  },
  {
   "cell_type": "markdown",
   "metadata": {},
   "source": [
    "## Some more functionality\n",
    "\n",
    "The models in this repository are subclassed from `Calliope`, an open-source energy modelling framework with some really neat features. See [this link](https://calliope.readthedocs.io/en/stable/index.html) for tutorials and more information. Below, we'll look at two nice ways of analysing results that are inherited from that software. There are a lot more features -- it's recommended to have a look through the tutorial, especially the \"analysing a model\" section.\n",
    "\n",
    "The code above gives a high-level overview of relevant model outputs. However, if you wan't all of them, you can export them to csv as follows:"
   ]
  },
  {
   "cell_type": "code",
   "execution_count": null,
   "metadata": {},
   "outputs": [],
   "source": [
    "# Export full set of outputs to CSV -- creates a directory called 'outputs'\n",
    "\n",
    "model.to_csv('outputs')"
   ]
  },
  {
   "cell_type": "code",
   "execution_count": null,
   "metadata": {},
   "outputs": [],
   "source": [
    "# Make plots of the model outputs (e.g. power or variable cost). This cell does not\n",
    "# display properly on Github. If you want to see the outputs, open it up yourself\n",
    "# and run it in your own Jupyter notebook. \n",
    "\n",
    "model.plot.timeseries(array='results')"
   ]
  }
 ],
 "metadata": {
  "kernelspec": {
   "display_name": "Python 3",
   "language": "python",
   "name": "python3"
  },
  "language_info": {
   "codemirror_mode": {
    "name": "ipython",
    "version": 3
   },
   "file_extension": ".py",
   "mimetype": "text/x-python",
   "name": "python",
   "nbconvert_exporter": "python",
   "pygments_lexer": "ipython3",
   "version": "3.8.1"
  }
 },
 "nbformat": 4,
 "nbformat_minor": 4
}
