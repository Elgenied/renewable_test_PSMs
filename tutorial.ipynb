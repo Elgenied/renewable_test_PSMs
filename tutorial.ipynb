{
 "cells": [
  {
   "cell_type": "code",
   "execution_count": 1,
   "metadata": {},
   "outputs": [],
   "source": [
    "import warnings\n",
    "warnings.filterwarnings('ignore')"
   ]
  },
  {
   "cell_type": "markdown",
   "metadata": {},
   "source": [
    "# A very simple power system model tutorial\n",
    "\n",
    "Based on an open-source set of test models available at [github.com/ahilbers/renewable_test_PSMs](https://github.com/ahilbers/renewable_test_PSMs).\n",
    "\n",
    "The model in this tutorial is very simple: it has one region, in which demand must be met by four generation technologies: baseload (cf. nuclear), peaking (cf. gas), wind, and solar."
   ]
  },
  {
   "cell_type": "code",
   "execution_count": 2,
   "metadata": {},
   "outputs": [],
   "source": [
    "import models"
   ]
  },
  {
   "cell_type": "markdown",
   "metadata": {},
   "source": [
    "## Import time series data"
   ]
  },
  {
   "cell_type": "code",
   "execution_count": 3,
   "metadata": {},
   "outputs": [
    {
     "data": {
      "text/html": [
       "<div>\n",
       "<style scoped>\n",
       "    .dataframe tbody tr th:only-of-type {\n",
       "        vertical-align: middle;\n",
       "    }\n",
       "\n",
       "    .dataframe tbody tr th {\n",
       "        vertical-align: top;\n",
       "    }\n",
       "\n",
       "    .dataframe thead th {\n",
       "        text-align: right;\n",
       "    }\n",
       "</style>\n",
       "<table border=\"1\" class=\"dataframe\">\n",
       "  <thead>\n",
       "    <tr style=\"text-align: right;\">\n",
       "      <th></th>\n",
       "      <th>demand</th>\n",
       "      <th>wind</th>\n",
       "      <th>solar</th>\n",
       "    </tr>\n",
       "    <tr>\n",
       "      <th>t</th>\n",
       "      <th></th>\n",
       "      <th></th>\n",
       "      <th></th>\n",
       "    </tr>\n",
       "  </thead>\n",
       "  <tbody>\n",
       "    <tr>\n",
       "      <th>2017-06-08 00:00:00</th>\n",
       "      <td>28.38</td>\n",
       "      <td>0.3456</td>\n",
       "      <td>0.000000</td>\n",
       "    </tr>\n",
       "    <tr>\n",
       "      <th>2017-06-08 01:00:00</th>\n",
       "      <td>27.04</td>\n",
       "      <td>0.3624</td>\n",
       "      <td>0.000000</td>\n",
       "    </tr>\n",
       "    <tr>\n",
       "      <th>2017-06-08 02:00:00</th>\n",
       "      <td>26.13</td>\n",
       "      <td>0.3609</td>\n",
       "      <td>0.000000</td>\n",
       "    </tr>\n",
       "    <tr>\n",
       "      <th>2017-06-08 03:00:00</th>\n",
       "      <td>25.61</td>\n",
       "      <td>0.3572</td>\n",
       "      <td>0.000095</td>\n",
       "    </tr>\n",
       "    <tr>\n",
       "      <th>2017-06-08 04:00:00</th>\n",
       "      <td>26.06</td>\n",
       "      <td>0.3480</td>\n",
       "      <td>0.012418</td>\n",
       "    </tr>\n",
       "    <tr>\n",
       "      <th>2017-06-08 05:00:00</th>\n",
       "      <td>30.16</td>\n",
       "      <td>0.3624</td>\n",
       "      <td>0.042604</td>\n",
       "    </tr>\n",
       "    <tr>\n",
       "      <th>2017-06-08 06:00:00</th>\n",
       "      <td>35.57</td>\n",
       "      <td>0.4005</td>\n",
       "      <td>0.078995</td>\n",
       "    </tr>\n",
       "    <tr>\n",
       "      <th>2017-06-08 07:00:00</th>\n",
       "      <td>39.23</td>\n",
       "      <td>0.4608</td>\n",
       "      <td>0.133953</td>\n",
       "    </tr>\n",
       "    <tr>\n",
       "      <th>2017-06-08 08:00:00</th>\n",
       "      <td>41.01</td>\n",
       "      <td>0.5247</td>\n",
       "      <td>0.191949</td>\n",
       "    </tr>\n",
       "    <tr>\n",
       "      <th>2017-06-08 09:00:00</th>\n",
       "      <td>41.68</td>\n",
       "      <td>0.5800</td>\n",
       "      <td>0.224754</td>\n",
       "    </tr>\n",
       "  </tbody>\n",
       "</table>\n",
       "</div>"
      ],
      "text/plain": [
       "                     demand    wind     solar\n",
       "t                                            \n",
       "2017-06-08 00:00:00   28.38  0.3456  0.000000\n",
       "2017-06-08 01:00:00   27.04  0.3624  0.000000\n",
       "2017-06-08 02:00:00   26.13  0.3609  0.000000\n",
       "2017-06-08 03:00:00   25.61  0.3572  0.000095\n",
       "2017-06-08 04:00:00   26.06  0.3480  0.012418\n",
       "2017-06-08 05:00:00   30.16  0.3624  0.042604\n",
       "2017-06-08 06:00:00   35.57  0.4005  0.078995\n",
       "2017-06-08 07:00:00   39.23  0.4608  0.133953\n",
       "2017-06-08 08:00:00   41.01  0.5247  0.191949\n",
       "2017-06-08 09:00:00   41.68  0.5800  0.224754"
      ]
     },
     "execution_count": 3,
     "metadata": {},
     "output_type": "execute_result"
    }
   ],
   "source": [
    "ts_data = models.load_time_series_data('1_region')\n",
    "ts_data = ts_data.loc['2017-06-08':'2017-06-15']\n",
    "ts_data.head(10)"
   ]
  },
  {
   "cell_type": "markdown",
   "metadata": {},
   "source": [
    "## `Operate` mode: meet demand with a fixed system\n",
    "\n",
    "In this example, the generation capacities are user-defined, and the model optimises how demand is met. This is sometimes called the *economic dispatch* or the *unit commitment* problem."
   ]
  },
  {
   "cell_type": "code",
   "execution_count": 4,
   "metadata": {},
   "outputs": [],
   "source": [
    "# Set the generation capacities\n",
    "generation_capacities = {'cap_baseload_total': 15.0,\n",
    "                         'cap_peaking_total': 10.0,\n",
    "                         'cap_wind_total': 20.0,\n",
    "                         'cap_solar_total': 15.0}  # GW\n",
    "\n",
    "# Create the model with the fixed capacities\n",
    "model = models.OneRegionModel(ts_data=ts_data,\n",
    "                              run_mode='operate',\n",
    "                              fixed_caps=generation_capacities)"
   ]
  },
  {
   "cell_type": "code",
   "execution_count": 5,
   "metadata": {},
   "outputs": [],
   "source": [
    "# Run the model, solve the optimisation problem\n",
    "model.run()"
   ]
  },
  {
   "cell_type": "code",
   "execution_count": 6,
   "metadata": {},
   "outputs": [
    {
     "data": {
      "text/html": [
       "<div>\n",
       "<style scoped>\n",
       "    .dataframe tbody tr th:only-of-type {\n",
       "        vertical-align: middle;\n",
       "    }\n",
       "\n",
       "    .dataframe tbody tr th {\n",
       "        vertical-align: top;\n",
       "    }\n",
       "\n",
       "    .dataframe thead th {\n",
       "        text-align: right;\n",
       "    }\n",
       "</style>\n",
       "<table border=\"1\" class=\"dataframe\">\n",
       "  <thead>\n",
       "    <tr style=\"text-align: right;\">\n",
       "      <th></th>\n",
       "      <th>output</th>\n",
       "    </tr>\n",
       "  </thead>\n",
       "  <tbody>\n",
       "    <tr>\n",
       "      <th>cap_baseload_total</th>\n",
       "      <td>1.500000e+01</td>\n",
       "    </tr>\n",
       "    <tr>\n",
       "      <th>cap_peaking_total</th>\n",
       "      <td>1.000000e+01</td>\n",
       "    </tr>\n",
       "    <tr>\n",
       "      <th>cap_wind_total</th>\n",
       "      <td>2.000000e+01</td>\n",
       "    </tr>\n",
       "    <tr>\n",
       "      <th>cap_solar_total</th>\n",
       "      <td>1.500000e+01</td>\n",
       "    </tr>\n",
       "    <tr>\n",
       "      <th>peak_unmet_total</th>\n",
       "      <td>9.264780e+00</td>\n",
       "    </tr>\n",
       "    <tr>\n",
       "      <th>gen_baseload_total</th>\n",
       "      <td>1.205245e+05</td>\n",
       "    </tr>\n",
       "    <tr>\n",
       "      <th>gen_peaking_total</th>\n",
       "      <td>3.905862e+04</td>\n",
       "    </tr>\n",
       "    <tr>\n",
       "      <th>gen_wind_total</th>\n",
       "      <td>1.008980e+05</td>\n",
       "    </tr>\n",
       "    <tr>\n",
       "      <th>gen_solar_total</th>\n",
       "      <td>3.306704e+04</td>\n",
       "    </tr>\n",
       "    <tr>\n",
       "      <th>gen_unmet_total</th>\n",
       "      <td>7.521268e+03</td>\n",
       "    </tr>\n",
       "    <tr>\n",
       "      <th>demand_total</th>\n",
       "      <td>3.010693e+05</td>\n",
       "    </tr>\n",
       "    <tr>\n",
       "      <th>cost_total</th>\n",
       "      <td>9.042679e+06</td>\n",
       "    </tr>\n",
       "    <tr>\n",
       "      <th>emissions_total</th>\n",
       "      <td>3.972834e+07</td>\n",
       "    </tr>\n",
       "  </tbody>\n",
       "</table>\n",
       "</div>"
      ],
      "text/plain": [
       "                          output\n",
       "cap_baseload_total  1.500000e+01\n",
       "cap_peaking_total   1.000000e+01\n",
       "cap_wind_total      2.000000e+01\n",
       "cap_solar_total     1.500000e+01\n",
       "peak_unmet_total    9.264780e+00\n",
       "gen_baseload_total  1.205245e+05\n",
       "gen_peaking_total   3.905862e+04\n",
       "gen_wind_total      1.008980e+05\n",
       "gen_solar_total     3.306704e+04\n",
       "gen_unmet_total     7.521268e+03\n",
       "demand_total        3.010693e+05\n",
       "cost_total          9.042679e+06\n",
       "emissions_total     3.972834e+07"
      ]
     },
     "execution_count": 6,
     "metadata": {},
     "output_type": "execute_result"
    }
   ],
   "source": [
    "# Show a summary of outputs\n",
    "model.get_summary_outputs()"
   ]
  },
  {
   "cell_type": "code",
   "execution_count": null,
   "metadata": {},
   "outputs": [],
   "source": [
    "# Change colors (for the plot only) \n",
    "model._model_data.colors.loc['peaking'] = '#888888'\n",
    "model._model_data.colors.loc['baseload'] = '#003399'\n",
    "model._model_data.colors.loc['solar'] = '#e3bb12'\n",
    "model._model_data.colors.loc['demand_power'] = '#000000'\n",
    "model._model_data.colors.loc['unmet'] = '#000000'\n",
    "model._model_data.colors.loc['wind'] = '#4eba44'\n",
    "\n",
    "# Note: these plots do not display well in Github -- use your own notebook\n",
    "model.plot.timeseries(array='all')"
   ]
  },
  {
   "cell_type": "code",
   "execution_count": null,
   "metadata": {},
   "outputs": [],
   "source": [
    "# Export all model outputs to CSV (creates directory called 'outputs_operate')\n",
    "model.to_csv('outputs_operate')"
   ]
  },
  {
   "cell_type": "markdown",
   "metadata": {},
   "source": [
    "## `Plan` mode: design cost-optimal system\n",
    "\n",
    "In this example, the model optimises both the design and operation of a system. This is sometimes called the *capacity expansion planning* problem."
   ]
  },
  {
   "cell_type": "code",
   "execution_count": 8,
   "metadata": {},
   "outputs": [],
   "source": [
    "# Create the model without any fixed capacities\n",
    "model = models.OneRegionModel(ts_data=ts_data,\n",
    "                              run_mode='plan')"
   ]
  },
  {
   "cell_type": "code",
   "execution_count": 9,
   "metadata": {},
   "outputs": [],
   "source": [
    "# Run the model, solve the optimisation problem\n",
    "model.run()"
   ]
  },
  {
   "cell_type": "code",
   "execution_count": 10,
   "metadata": {},
   "outputs": [
    {
     "data": {
      "text/html": [
       "<div>\n",
       "<style scoped>\n",
       "    .dataframe tbody tr th:only-of-type {\n",
       "        vertical-align: middle;\n",
       "    }\n",
       "\n",
       "    .dataframe tbody tr th {\n",
       "        vertical-align: top;\n",
       "    }\n",
       "\n",
       "    .dataframe thead th {\n",
       "        text-align: right;\n",
       "    }\n",
       "</style>\n",
       "<table border=\"1\" class=\"dataframe\">\n",
       "  <thead>\n",
       "    <tr style=\"text-align: right;\">\n",
       "      <th></th>\n",
       "      <th>output</th>\n",
       "    </tr>\n",
       "  </thead>\n",
       "  <tbody>\n",
       "    <tr>\n",
       "      <th>cap_baseload_total</th>\n",
       "      <td>0.000000e+00</td>\n",
       "    </tr>\n",
       "    <tr>\n",
       "      <th>cap_peaking_total</th>\n",
       "      <td>3.263996e+01</td>\n",
       "    </tr>\n",
       "    <tr>\n",
       "      <th>cap_wind_total</th>\n",
       "      <td>3.268362e+01</td>\n",
       "    </tr>\n",
       "    <tr>\n",
       "      <th>cap_solar_total</th>\n",
       "      <td>3.651193e+01</td>\n",
       "    </tr>\n",
       "    <tr>\n",
       "      <th>peak_unmet_total</th>\n",
       "      <td>0.000000e+00</td>\n",
       "    </tr>\n",
       "    <tr>\n",
       "      <th>gen_baseload_total</th>\n",
       "      <td>0.000000e+00</td>\n",
       "    </tr>\n",
       "    <tr>\n",
       "      <th>gen_peaking_total</th>\n",
       "      <td>7.961009e+04</td>\n",
       "    </tr>\n",
       "    <tr>\n",
       "      <th>gen_wind_total</th>\n",
       "      <td>1.542031e+05</td>\n",
       "    </tr>\n",
       "    <tr>\n",
       "      <th>gen_solar_total</th>\n",
       "      <td>6.725612e+04</td>\n",
       "    </tr>\n",
       "    <tr>\n",
       "      <th>gen_unmet_total</th>\n",
       "      <td>0.000000e+00</td>\n",
       "    </tr>\n",
       "    <tr>\n",
       "      <th>demand_total</th>\n",
       "      <td>3.010693e+05</td>\n",
       "    </tr>\n",
       "    <tr>\n",
       "      <th>cost_total</th>\n",
       "      <td>1.041407e+04</td>\n",
       "    </tr>\n",
       "    <tr>\n",
       "      <th>emissions_total</th>\n",
       "      <td>3.184404e+07</td>\n",
       "    </tr>\n",
       "  </tbody>\n",
       "</table>\n",
       "</div>"
      ],
      "text/plain": [
       "                          output\n",
       "cap_baseload_total  0.000000e+00\n",
       "cap_peaking_total   3.263996e+01\n",
       "cap_wind_total      3.268362e+01\n",
       "cap_solar_total     3.651193e+01\n",
       "peak_unmet_total    0.000000e+00\n",
       "gen_baseload_total  0.000000e+00\n",
       "gen_peaking_total   7.961009e+04\n",
       "gen_wind_total      1.542031e+05\n",
       "gen_solar_total     6.725612e+04\n",
       "gen_unmet_total     0.000000e+00\n",
       "demand_total        3.010693e+05\n",
       "cost_total          1.041407e+04\n",
       "emissions_total     3.184404e+07"
      ]
     },
     "execution_count": 10,
     "metadata": {},
     "output_type": "execute_result"
    }
   ],
   "source": [
    "# Show a summary of outputs\n",
    "model.get_summary_outputs()"
   ]
  },
  {
   "cell_type": "code",
   "execution_count": null,
   "metadata": {
    "scrolled": false
   },
   "outputs": [],
   "source": [
    "# Change colors (for the plot only) \n",
    "model._model_data.colors.loc['peaking'] = '#888888'\n",
    "model._model_data.colors.loc['baseload'] = '#003399'\n",
    "model._model_data.colors.loc['solar'] = '#e3bb12'\n",
    "model._model_data.colors.loc['demand_power'] = '#000000'\n",
    "model._model_data.colors.loc['unmet'] = '#000000'\n",
    "model._model_data.colors.loc['wind'] = '#4eba44'\n",
    "\n",
    "# Note: these plots do not display well in Github -- use your own notebook\n",
    "model.plot.timeseries(array='all')"
   ]
  },
  {
   "cell_type": "code",
   "execution_count": null,
   "metadata": {},
   "outputs": [],
   "source": [
    "# Export all model outputs to CSV (creates directory called 'outputs_plan')\n",
    "model.to_csv('outputs_plan')"
   ]
  }
 ],
 "metadata": {
  "kernelspec": {
   "display_name": "Python 3",
   "language": "python",
   "name": "python3"
  },
  "language_info": {
   "codemirror_mode": {
    "name": "ipython",
    "version": 3
   },
   "file_extension": ".py",
   "mimetype": "text/x-python",
   "name": "python",
   "nbconvert_exporter": "python",
   "pygments_lexer": "ipython3",
   "version": "3.7.4"
  }
 },
 "nbformat": 4,
 "nbformat_minor": 4
}
